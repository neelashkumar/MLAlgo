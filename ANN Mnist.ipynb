{
 "cells": [
  {
   "cell_type": "code",
   "execution_count": 1,
   "metadata": {},
   "outputs": [
    {
     "name": "stderr",
     "output_type": "stream",
     "text": [
      "C:\\ProgramData\\Anaconda3\\lib\\site-packages\\h5py\\__init__.py:36: FutureWarning: Conversion of the second argument of issubdtype from `float` to `np.floating` is deprecated. In future, it will be treated as `np.float64 == np.dtype(float).type`.\n",
      "  from ._conv import register_converters as _register_converters\n"
     ]
    }
   ],
   "source": [
    "import tensorflow as tf"
   ]
  },
  {
   "cell_type": "code",
   "execution_count": 2,
   "metadata": {},
   "outputs": [],
   "source": [
    "mnist=tf.keras.datasets.mnist"
   ]
  },
  {
   "cell_type": "code",
   "execution_count": 3,
   "metadata": {},
   "outputs": [],
   "source": [
    "(x_train,y_train),(x_test,y_test)=mnist.load_data()"
   ]
  },
  {
   "cell_type": "code",
   "execution_count": 4,
   "metadata": {},
   "outputs": [
    {
     "data": {
      "text/plain": [
       "(60000, 28, 28)"
      ]
     },
     "execution_count": 4,
     "metadata": {},
     "output_type": "execute_result"
    }
   ],
   "source": [
    "x_train.shape"
   ]
  },
  {
   "cell_type": "code",
   "execution_count": 5,
   "metadata": {},
   "outputs": [
    {
     "data": {
      "text/plain": [
       "array([[  0,   0,   0,   0,   0,   0,   0,   0,   0,   0,   0,   0,   0,\n",
       "          0,   0,   0,   0,   0,   0,   0,   0,   0,   0,   0,   0,   0,\n",
       "          0,   0],\n",
       "       [  0,   0,   0,   0,   0,   0,   0,   0,   0,   0,   0,   0,   0,\n",
       "          0,   0,   0,   0,   0,   0,   0,   0,   0,   0,   0,   0,   0,\n",
       "          0,   0],\n",
       "       [  0,   0,   0,   0,   0,   0,   0,   0,   0,   0,   0,   0,   0,\n",
       "          0,   0,   0,   0,   0,   0,   0,   0,   0,   0,   0,   0,   0,\n",
       "          0,   0],\n",
       "       [  0,   0,   0,   0,   0,   0,   0,   0,   0,   0,   0,   0,   0,\n",
       "          0,   0,   0,   0,   0,   0,   0,   0,   0,   0,   0,   0,   0,\n",
       "          0,   0],\n",
       "       [  0,   0,   0,   0,   0,   0,   0,   0,   0,   0,   0,   0,   0,\n",
       "          0,   0,   0,   0,   0,   0,   0,   0,   0,   0,   0,   0,   0,\n",
       "          0,   0],\n",
       "       [  0,   0,   0,   0,   0,   0,   0,   0,   0,   0,   0,   0,   3,\n",
       "         18,  18,  18, 126, 136, 175,  26, 166, 255, 247, 127,   0,   0,\n",
       "          0,   0],\n",
       "       [  0,   0,   0,   0,   0,   0,   0,   0,  30,  36,  94, 154, 170,\n",
       "        253, 253, 253, 253, 253, 225, 172, 253, 242, 195,  64,   0,   0,\n",
       "          0,   0],\n",
       "       [  0,   0,   0,   0,   0,   0,   0,  49, 238, 253, 253, 253, 253,\n",
       "        253, 253, 253, 253, 251,  93,  82,  82,  56,  39,   0,   0,   0,\n",
       "          0,   0],\n",
       "       [  0,   0,   0,   0,   0,   0,   0,  18, 219, 253, 253, 253, 253,\n",
       "        253, 198, 182, 247, 241,   0,   0,   0,   0,   0,   0,   0,   0,\n",
       "          0,   0],\n",
       "       [  0,   0,   0,   0,   0,   0,   0,   0,  80, 156, 107, 253, 253,\n",
       "        205,  11,   0,  43, 154,   0,   0,   0,   0,   0,   0,   0,   0,\n",
       "          0,   0],\n",
       "       [  0,   0,   0,   0,   0,   0,   0,   0,   0,  14,   1, 154, 253,\n",
       "         90,   0,   0,   0,   0,   0,   0,   0,   0,   0,   0,   0,   0,\n",
       "          0,   0],\n",
       "       [  0,   0,   0,   0,   0,   0,   0,   0,   0,   0,   0, 139, 253,\n",
       "        190,   2,   0,   0,   0,   0,   0,   0,   0,   0,   0,   0,   0,\n",
       "          0,   0],\n",
       "       [  0,   0,   0,   0,   0,   0,   0,   0,   0,   0,   0,  11, 190,\n",
       "        253,  70,   0,   0,   0,   0,   0,   0,   0,   0,   0,   0,   0,\n",
       "          0,   0],\n",
       "       [  0,   0,   0,   0,   0,   0,   0,   0,   0,   0,   0,   0,  35,\n",
       "        241, 225, 160, 108,   1,   0,   0,   0,   0,   0,   0,   0,   0,\n",
       "          0,   0],\n",
       "       [  0,   0,   0,   0,   0,   0,   0,   0,   0,   0,   0,   0,   0,\n",
       "         81, 240, 253, 253, 119,  25,   0,   0,   0,   0,   0,   0,   0,\n",
       "          0,   0],\n",
       "       [  0,   0,   0,   0,   0,   0,   0,   0,   0,   0,   0,   0,   0,\n",
       "          0,  45, 186, 253, 253, 150,  27,   0,   0,   0,   0,   0,   0,\n",
       "          0,   0],\n",
       "       [  0,   0,   0,   0,   0,   0,   0,   0,   0,   0,   0,   0,   0,\n",
       "          0,   0,  16,  93, 252, 253, 187,   0,   0,   0,   0,   0,   0,\n",
       "          0,   0],\n",
       "       [  0,   0,   0,   0,   0,   0,   0,   0,   0,   0,   0,   0,   0,\n",
       "          0,   0,   0,   0, 249, 253, 249,  64,   0,   0,   0,   0,   0,\n",
       "          0,   0],\n",
       "       [  0,   0,   0,   0,   0,   0,   0,   0,   0,   0,   0,   0,   0,\n",
       "          0,  46, 130, 183, 253, 253, 207,   2,   0,   0,   0,   0,   0,\n",
       "          0,   0],\n",
       "       [  0,   0,   0,   0,   0,   0,   0,   0,   0,   0,   0,   0,  39,\n",
       "        148, 229, 253, 253, 253, 250, 182,   0,   0,   0,   0,   0,   0,\n",
       "          0,   0],\n",
       "       [  0,   0,   0,   0,   0,   0,   0,   0,   0,   0,  24, 114, 221,\n",
       "        253, 253, 253, 253, 201,  78,   0,   0,   0,   0,   0,   0,   0,\n",
       "          0,   0],\n",
       "       [  0,   0,   0,   0,   0,   0,   0,   0,  23,  66, 213, 253, 253,\n",
       "        253, 253, 198,  81,   2,   0,   0,   0,   0,   0,   0,   0,   0,\n",
       "          0,   0],\n",
       "       [  0,   0,   0,   0,   0,   0,  18, 171, 219, 253, 253, 253, 253,\n",
       "        195,  80,   9,   0,   0,   0,   0,   0,   0,   0,   0,   0,   0,\n",
       "          0,   0],\n",
       "       [  0,   0,   0,   0,  55, 172, 226, 253, 253, 253, 253, 244, 133,\n",
       "         11,   0,   0,   0,   0,   0,   0,   0,   0,   0,   0,   0,   0,\n",
       "          0,   0],\n",
       "       [  0,   0,   0,   0, 136, 253, 253, 253, 212, 135, 132,  16,   0,\n",
       "          0,   0,   0,   0,   0,   0,   0,   0,   0,   0,   0,   0,   0,\n",
       "          0,   0],\n",
       "       [  0,   0,   0,   0,   0,   0,   0,   0,   0,   0,   0,   0,   0,\n",
       "          0,   0,   0,   0,   0,   0,   0,   0,   0,   0,   0,   0,   0,\n",
       "          0,   0],\n",
       "       [  0,   0,   0,   0,   0,   0,   0,   0,   0,   0,   0,   0,   0,\n",
       "          0,   0,   0,   0,   0,   0,   0,   0,   0,   0,   0,   0,   0,\n",
       "          0,   0],\n",
       "       [  0,   0,   0,   0,   0,   0,   0,   0,   0,   0,   0,   0,   0,\n",
       "          0,   0,   0,   0,   0,   0,   0,   0,   0,   0,   0,   0,   0,\n",
       "          0,   0]], dtype=uint8)"
      ]
     },
     "execution_count": 5,
     "metadata": {},
     "output_type": "execute_result"
    }
   ],
   "source": [
    "x_train[0]"
   ]
  },
  {
   "cell_type": "code",
   "execution_count": 6,
   "metadata": {},
   "outputs": [],
   "source": [
    "import matplotlib.pyplot as plt"
   ]
  },
  {
   "cell_type": "code",
   "execution_count": 7,
   "metadata": {},
   "outputs": [
    {
     "data": {
      "text/plain": [
       "<matplotlib.image.AxesImage at 0xfd2c828>"
      ]
     },
     "execution_count": 7,
     "metadata": {},
     "output_type": "execute_result"
    },
    {
     "data": {
      "image/png": "[encoded data removed]",
      "text/plain": [
       "<Figure size 432x288 with 1 Axes>"
      ]
     },
     "metadata": {},
     "output_type": "display_data"
    }
   ],
   "source": [
    "plt.imshow(x_train[0])"
   ]
  },
  {
   "cell_type": "code",
   "execution_count": 8,
   "metadata": {},
   "outputs": [
    {
     "data": {
      "text/plain": [
       "<matplotlib.image.AxesImage at 0x1050b198>"
      ]
     },
     "execution_count": 8,
     "metadata": {},
     "output_type": "execute_result"
    },
    {
     "data": {
      "image/png": "[encoded data removed]",
      "text/plain": [
       "<Figure size 432x288 with 1 Axes>"
      ]
     },
     "metadata": {},
     "output_type": "display_data"
    }
   ],
   "source": [
    "plt.imshow(x_train[1])"
   ]
  },
  {
   "cell_type": "code",
   "execution_count": 9,
   "metadata": {},
   "outputs": [
    {
     "data": {
      "text/plain": [
       "5"
      ]
     },
     "execution_count": 9,
     "metadata": {},
     "output_type": "execute_result"
    }
   ],
   "source": [
    "y_train[0]"
   ]
  },
  {
   "cell_type": "code",
   "execution_count": 10,
   "metadata": {},
   "outputs": [
    {
     "data": {
      "text/plain": [
       "0"
      ]
     },
     "execution_count": 10,
     "metadata": {},
     "output_type": "execute_result"
    }
   ],
   "source": [
    "y_train[1]"
   ]
  },
  {
   "cell_type": "code",
   "execution_count": 11,
   "metadata": {},
   "outputs": [
    {
     "data": {
      "text/plain": [
       "(60000,)"
      ]
     },
     "execution_count": 11,
     "metadata": {},
     "output_type": "execute_result"
    }
   ],
   "source": [
    "y_train.shape"
   ]
  },
  {
   "cell_type": "code",
   "execution_count": 12,
   "metadata": {},
   "outputs": [
    {
     "data": {
      "text/plain": [
       "(10000, 28, 28)"
      ]
     },
     "execution_count": 12,
     "metadata": {},
     "output_type": "execute_result"
    }
   ],
   "source": [
    "x_test.shape"
   ]
  },
  {
   "cell_type": "markdown",
   "metadata": {},
   "source": [
    "# feature scaling"
   ]
  },
  {
   "cell_type": "code",
   "execution_count": 13,
   "metadata": {},
   "outputs": [],
   "source": [
    "x_train=tf.keras.utils.normalize(x_train,axis=1)"
   ]
  },
  {
   "cell_type": "code",
   "execution_count": 14,
   "metadata": {},
   "outputs": [],
   "source": [
    "x_test=tf.keras.utils.normalize(x_test,axis=1)"
   ]
  },
  {
   "cell_type": "code",
   "execution_count": 15,
   "metadata": {},
   "outputs": [
    {
     "data": {
      "text/plain": [
       "<matplotlib.image.AxesImage at 0x101ae048>"
      ]
     },
     "execution_count": 15,
     "metadata": {},
     "output_type": "execute_result"
    },
    {
     "data": {
      "image/png": "[encoded data removed]",
      "text/plain": [
       "<Figure size 432x288 with 1 Axes>"
      ]
     },
     "metadata": {},
     "output_type": "display_data"
    }
   ],
   "source": [
    "plt.imshow(x_train[0])"
   ]
  },
  {
   "cell_type": "code",
   "execution_count": 16,
   "metadata": {},
   "outputs": [],
   "source": [
    "y_train=y_train.reshape(60000,1)"
   ]
  },
  {
   "cell_type": "code",
   "execution_count": 17,
   "metadata": {},
   "outputs": [],
   "source": [
    "y_test=y_test.reshape(10000,1)"
   ]
  },
  {
   "cell_type": "code",
   "execution_count": 18,
   "metadata": {},
   "outputs": [
    {
     "data": {
      "text/plain": [
       "array([[5],\n",
       "       [0],\n",
       "       [4],\n",
       "       ...,\n",
       "       [5],\n",
       "       [6],\n",
       "       [8]], dtype=uint8)"
      ]
     },
     "execution_count": 18,
     "metadata": {},
     "output_type": "execute_result"
    }
   ],
   "source": [
    "y_train"
   ]
  },
  {
   "cell_type": "code",
   "execution_count": 19,
   "metadata": {},
   "outputs": [
    {
     "data": {
      "text/plain": [
       "array([[7],\n",
       "       [2],\n",
       "       [1],\n",
       "       ...,\n",
       "       [4],\n",
       "       [5],\n",
       "       [6]], dtype=uint8)"
      ]
     },
     "execution_count": 19,
     "metadata": {},
     "output_type": "execute_result"
    }
   ],
   "source": [
    "y_test"
   ]
  },
  {
   "cell_type": "code",
   "execution_count": null,
   "metadata": {},
   "outputs": [],
   "source": []
  },
  {
   "cell_type": "code",
   "execution_count": 20,
   "metadata": {},
   "outputs": [],
   "source": [
    "from sklearn.preprocessing import OneHotEncoder"
   ]
  },
  {
   "cell_type": "code",
   "execution_count": 21,
   "metadata": {},
   "outputs": [],
   "source": [
    "one=OneHotEncoder(categorical_features=[0])"
   ]
  },
  {
   "cell_type": "code",
   "execution_count": 22,
   "metadata": {},
   "outputs": [],
   "source": [
    "y_train=one.fit_transform(y_train).toarray()"
   ]
  },
  {
   "cell_type": "code",
   "execution_count": 23,
   "metadata": {},
   "outputs": [],
   "source": [
    "y_test=one.fit_transform(y_test).toarray()"
   ]
  },
  {
   "cell_type": "code",
   "execution_count": 24,
   "metadata": {},
   "outputs": [
    {
     "data": {
      "text/plain": [
       "array([[0., 0., 0., ..., 0., 0., 0.],\n",
       "       [1., 0., 0., ..., 0., 0., 0.],\n",
       "       [0., 0., 0., ..., 0., 0., 0.],\n",
       "       ...,\n",
       "       [0., 0., 0., ..., 0., 0., 0.],\n",
       "       [0., 0., 0., ..., 0., 0., 0.],\n",
       "       [0., 0., 0., ..., 0., 1., 0.]])"
      ]
     },
     "execution_count": 24,
     "metadata": {},
     "output_type": "execute_result"
    }
   ],
   "source": [
    "y_train"
   ]
  },
  {
   "cell_type": "code",
   "execution_count": 25,
   "metadata": {},
   "outputs": [
    {
     "data": {
      "text/plain": [
       "array([[0., 0., 0., ..., 1., 0., 0.],\n",
       "       [0., 0., 1., ..., 0., 0., 0.],\n",
       "       [0., 1., 0., ..., 0., 0., 0.],\n",
       "       ...,\n",
       "       [0., 0., 0., ..., 0., 0., 0.],\n",
       "       [0., 0., 0., ..., 0., 0., 0.],\n",
       "       [0., 0., 0., ..., 0., 0., 0.]])"
      ]
     },
     "execution_count": 25,
     "metadata": {},
     "output_type": "execute_result"
    }
   ],
   "source": [
    "y_test"
   ]
  },
  {
   "cell_type": "code",
   "execution_count": 26,
   "metadata": {},
   "outputs": [
    {
     "data": {
      "text/plain": [
       "(60000, 10)"
      ]
     },
     "execution_count": 26,
     "metadata": {},
     "output_type": "execute_result"
    }
   ],
   "source": [
    "y_train.shape"
   ]
  },
  {
   "cell_type": "code",
   "execution_count": 27,
   "metadata": {},
   "outputs": [
    {
     "name": "stderr",
     "output_type": "stream",
     "text": [
      "Using TensorFlow backend.\n"
     ]
    }
   ],
   "source": [
    "from keras.models import Sequential#to initialize\n",
    "from keras.layers import Dense#to add layers"
   ]
  },
  {
   "cell_type": "code",
   "execution_count": 28,
   "metadata": {},
   "outputs": [
    {
     "data": {
      "text/plain": [
       "(60000, 28, 28)"
      ]
     },
     "execution_count": 28,
     "metadata": {},
     "output_type": "execute_result"
    }
   ],
   "source": [
    "x_train.shape#We need to convert to 2D array"
   ]
  },
  {
   "cell_type": "code",
   "execution_count": 29,
   "metadata": {},
   "outputs": [],
   "source": [
    "x_train=x_train.reshape(60000,784)#28*28=784"
   ]
  },
  {
   "cell_type": "code",
   "execution_count": 30,
   "metadata": {},
   "outputs": [],
   "source": [
    "x_test=x_test.reshape(10000,784)"
   ]
  },
  {
   "cell_type": "code",
   "execution_count": 31,
   "metadata": {},
   "outputs": [
    {
     "data": {
      "text/plain": [
       "array([[0., 0., 0., ..., 0., 0., 0.],\n",
       "       [0., 0., 0., ..., 0., 0., 0.],\n",
       "       [0., 0., 0., ..., 0., 0., 0.],\n",
       "       ...,\n",
       "       [0., 0., 0., ..., 0., 0., 0.],\n",
       "       [0., 0., 0., ..., 0., 0., 0.],\n",
       "       [0., 0., 0., ..., 0., 0., 0.]])"
      ]
     },
     "execution_count": 31,
     "metadata": {},
     "output_type": "execute_result"
    }
   ],
   "source": [
    "x_train"
   ]
  },
  {
   "cell_type": "code",
   "execution_count": 32,
   "metadata": {},
   "outputs": [
    {
     "data": {
      "text/plain": [
       "array([[0., 0., 0., ..., 0., 0., 0.],\n",
       "       [0., 0., 0., ..., 0., 0., 0.],\n",
       "       [0., 0., 0., ..., 0., 0., 0.],\n",
       "       ...,\n",
       "       [0., 0., 0., ..., 0., 0., 0.],\n",
       "       [0., 0., 0., ..., 0., 0., 0.],\n",
       "       [0., 0., 0., ..., 0., 0., 0.]])"
      ]
     },
     "execution_count": 32,
     "metadata": {},
     "output_type": "execute_result"
    }
   ],
   "source": [
    "x_test"
   ]
  },
  {
   "cell_type": "code",
   "execution_count": 33,
   "metadata": {},
   "outputs": [
    {
     "data": {
      "text/plain": [
       "(60000, 784)"
      ]
     },
     "execution_count": 33,
     "metadata": {},
     "output_type": "execute_result"
    }
   ],
   "source": [
    "x_train.shape"
   ]
  },
  {
   "cell_type": "code",
   "execution_count": 34,
   "metadata": {},
   "outputs": [],
   "source": [
    "model=Sequential()"
   ]
  },
  {
   "cell_type": "code",
   "execution_count": 35,
   "metadata": {},
   "outputs": [
    {
     "name": "stderr",
     "output_type": "stream",
     "text": [
      "C:\\ProgramData\\Anaconda3\\lib\\site-packages\\ipykernel_launcher.py:1: UserWarning: Update your `Dense` call to the Keras 2 API: `Dense(input_dim=784, activation=\"relu\", units=64, kernel_initializer=\"random_uniform\")`\n",
      "  \"\"\"Entry point for launching an IPython kernel.\n"
     ]
    }
   ],
   "source": [
    "model.add(Dense(input_dim=784,init=\"random_uniform\",activation=\"relu\",output_dim=64))"
   ]
  },
  {
   "cell_type": "code",
   "execution_count": 37,
   "metadata": {},
   "outputs": [
    {
     "name": "stderr",
     "output_type": "stream",
     "text": [
      "C:\\ProgramData\\Anaconda3\\lib\\site-packages\\ipykernel_launcher.py:1: UserWarning: Update your `Dense` call to the Keras 2 API: `Dense(activation=\"relu\", units=15, kernel_initializer=\"random_uniform\")`\n",
      "  \"\"\"Entry point for launching an IPython kernel.\n"
     ]
    }
   ],
   "source": [
    "model.add(Dense(init=\"random_uniform\",activation=\"relu\",output_dim=15))"
   ]
  },
  {
   "cell_type": "code",
   "execution_count": 38,
   "metadata": {},
   "outputs": [
    {
     "name": "stderr",
     "output_type": "stream",
     "text": [
      "C:\\ProgramData\\Anaconda3\\lib\\site-packages\\ipykernel_launcher.py:1: UserWarning: Update your `Dense` call to the Keras 2 API: `Dense(activation=\"softmax\", units=10, kernel_initializer=\"random_uniform\")`\n",
      "  \"\"\"Entry point for launching an IPython kernel.\n"
     ]
    }
   ],
   "source": [
    "model.add(Dense(init=\"random_uniform\",activation=\"softmax\",output_dim=10))#we have 10 types of output category which is greater than 2"
   ]
  },
  {
   "cell_type": "code",
   "execution_count": 39,
   "metadata": {},
   "outputs": [],
   "source": [
    "model.compile(optimizer=\"adam\",loss=\"categorical_crossentropy\",metrics=[\"accuracy\"])#Since we use softmax as activation function"
   ]
  },
  {
   "cell_type": "code",
   "execution_count": 40,
   "metadata": {},
   "outputs": [
    {
     "name": "stdout",
     "output_type": "stream",
     "text": [
      "Epoch 1/100\n",
      "60000/60000 [==============================] - 3s 52us/step - loss: 0.8451 - acc: 0.7235\n",
      "Epoch 2/100\n",
      "60000/60000 [==============================] - 3s 43us/step - loss: 0.4026 - acc: 0.8842\n",
      "Epoch 3/100\n",
      "60000/60000 [==============================] - 3s 43us/step - loss: 0.2770 - acc: 0.9195\n",
      "Epoch 4/100\n",
      "60000/60000 [==============================] - 3s 43us/step - loss: 0.2162 - acc: 0.9370\n",
      "Epoch 5/100\n",
      "60000/60000 [==============================] - 3s 44us/step - loss: 0.1757 - acc: 0.9492\n",
      "Epoch 6/100\n",
      "60000/60000 [==============================] - 3s 46us/step - loss: 0.1460 - acc: 0.9569\n",
      "Epoch 7/100\n",
      "60000/60000 [==============================] - 3s 44us/step - loss: 0.1232 - acc: 0.9642\n",
      "Epoch 8/100\n",
      "60000/60000 [==============================] - 3s 43us/step - loss: 0.1063 - acc: 0.9690\n",
      "Epoch 9/100\n",
      "60000/60000 [==============================] - 3s 43us/step - loss: 0.0917 - acc: 0.9728\n",
      "Epoch 10/100\n",
      "60000/60000 [==============================] - 3s 43us/step - loss: 0.0807 - acc: 0.9760\n",
      "Epoch 11/100\n",
      "60000/60000 [==============================] - 3s 44us/step - loss: 0.0723 - acc: 0.9784\n",
      "Epoch 12/100\n",
      "60000/60000 [==============================] - 3s 45us/step - loss: 0.0652 - acc: 0.9805\n",
      "Epoch 13/100\n",
      "60000/60000 [==============================] - 3s 43us/step - loss: 0.0586 - acc: 0.9824\n",
      "Epoch 14/100\n",
      "60000/60000 [==============================] - 3s 44us/step - loss: 0.0531 - acc: 0.9836\n",
      "Epoch 15/100\n",
      "60000/60000 [==============================] - 3s 44us/step - loss: 0.0464 - acc: 0.9857\n",
      "Epoch 16/100\n",
      "60000/60000 [==============================] - 3s 44us/step - loss: 0.0411 - acc: 0.9872\n",
      "Epoch 17/100\n",
      "60000/60000 [==============================] - 3s 45us/step - loss: 0.0382 - acc: 0.9885\n",
      "Epoch 18/100\n",
      "60000/60000 [==============================] - 3s 44us/step - loss: 0.0351 - acc: 0.9892\n",
      "Epoch 19/100\n",
      "60000/60000 [==============================] - 3s 44us/step - loss: 0.0314 - acc: 0.9906\n",
      "Epoch 20/100\n",
      "60000/60000 [==============================] - 3s 44us/step - loss: 0.0274 - acc: 0.9921\n",
      "Epoch 21/100\n",
      "60000/60000 [==============================] - 3s 44us/step - loss: 0.0273 - acc: 0.9917\n",
      "Epoch 22/100\n",
      "60000/60000 [==============================] - 3s 44us/step - loss: 0.0242 - acc: 0.9927\n",
      "Epoch 23/100\n",
      "60000/60000 [==============================] - 3s 44us/step - loss: 0.0229 - acc: 0.9931\n",
      "Epoch 24/100\n",
      "60000/60000 [==============================] - 3s 44us/step - loss: 0.0226 - acc: 0.9935\n",
      "Epoch 25/100\n",
      "60000/60000 [==============================] - 3s 44us/step - loss: 0.0190 - acc: 0.9944\n",
      "Epoch 26/100\n",
      "60000/60000 [==============================] - 3s 44us/step - loss: 0.0191 - acc: 0.9938\n",
      "Epoch 27/100\n",
      "60000/60000 [==============================] - 3s 44us/step - loss: 0.0184 - acc: 0.9944\n",
      "Epoch 28/100\n",
      "60000/60000 [==============================] - 3s 44us/step - loss: 0.0170 - acc: 0.9950\n",
      "Epoch 29/100\n",
      "60000/60000 [==============================] - 3s 45us/step - loss: 0.0174 - acc: 0.9946\n",
      "Epoch 30/100\n",
      "60000/60000 [==============================] - 3s 44us/step - loss: 0.0136 - acc: 0.9959\n",
      "Epoch 31/100\n",
      "60000/60000 [==============================] - 3s 44us/step - loss: 0.0162 - acc: 0.9953\n",
      "Epoch 32/100\n",
      "60000/60000 [==============================] - 3s 46us/step - loss: 0.0141 - acc: 0.9958\n",
      "Epoch 33/100\n",
      "60000/60000 [==============================] - 3s 44us/step - loss: 0.0149 - acc: 0.9956\n",
      "Epoch 34/100\n",
      "60000/60000 [==============================] - 3s 44us/step - loss: 0.0148 - acc: 0.9955\n",
      "Epoch 35/100\n",
      "60000/60000 [==============================] - 3s 44us/step - loss: 0.0132 - acc: 0.9961\n",
      "Epoch 36/100\n",
      "60000/60000 [==============================] - 3s 44us/step - loss: 0.0142 - acc: 0.9958\n",
      "Epoch 37/100\n",
      "60000/60000 [==============================] - 3s 44us/step - loss: 0.0112 - acc: 0.9969\n",
      "Epoch 38/100\n",
      "60000/60000 [==============================] - 3s 44us/step - loss: 0.0123 - acc: 0.9965\n",
      "Epoch 39/100\n",
      "60000/60000 [==============================] - 3s 45us/step - loss: 0.0139 - acc: 0.9960\n",
      "Epoch 40/100\n",
      "60000/60000 [==============================] - 3s 44us/step - loss: 0.0121 - acc: 0.9967\n",
      "Epoch 41/100\n",
      "60000/60000 [==============================] - 3s 44us/step - loss: 0.0108 - acc: 0.9972\n",
      "Epoch 42/100\n",
      "60000/60000 [==============================] - 3s 44us/step - loss: 0.0119 - acc: 0.9967\n",
      "Epoch 43/100\n",
      "60000/60000 [==============================] - 3s 44us/step - loss: 0.0124 - acc: 0.9966\n",
      "Epoch 44/100\n",
      "60000/60000 [==============================] - 3s 47us/step - loss: 0.0115 - acc: 0.9968\n",
      "Epoch 45/100\n",
      "60000/60000 [==============================] - 3s 46us/step - loss: 0.0122 - acc: 0.9965\n",
      "Epoch 46/100\n",
      "60000/60000 [==============================] - 3s 44us/step - loss: 0.0100 - acc: 0.9973\n",
      "Epoch 47/100\n",
      "60000/60000 [==============================] - 3s 44us/step - loss: 0.0122 - acc: 0.9970\n",
      "Epoch 48/100\n",
      "60000/60000 [==============================] - 3s 44us/step - loss: 0.0096 - acc: 0.9974\n",
      "Epoch 49/100\n",
      "60000/60000 [==============================] - 3s 45us/step - loss: 0.0099 - acc: 0.9976\n",
      "Epoch 50/100\n",
      "60000/60000 [==============================] - 3s 44us/step - loss: 0.0119 - acc: 0.9968\n",
      "Epoch 51/100\n",
      "60000/60000 [==============================] - 3s 44us/step - loss: 0.0108 - acc: 0.9970\n",
      "Epoch 52/100\n",
      "60000/60000 [==============================] - 3s 44us/step - loss: 0.0103 - acc: 0.9972\n",
      "Epoch 53/100\n",
      "60000/60000 [==============================] - 3s 44us/step - loss: 0.0099 - acc: 0.9974\n",
      "Epoch 54/100\n",
      "60000/60000 [==============================] - 3s 43us/step - loss: 0.0114 - acc: 0.9970\n",
      "Epoch 55/100\n",
      "60000/60000 [==============================] - 3s 44us/step - loss: 0.0091 - acc: 0.9976\n",
      "Epoch 56/100\n",
      "60000/60000 [==============================] - 3s 43us/step - loss: 0.0104 - acc: 0.9971\n",
      "Epoch 57/100\n",
      "60000/60000 [==============================] - 3s 43us/step - loss: 0.0105 - acc: 0.9972\n",
      "Epoch 58/100\n",
      "60000/60000 [==============================] - 3s 43us/step - loss: 0.0071 - acc: 0.9985\n",
      "Epoch 59/100\n",
      "60000/60000 [==============================] - 3s 43us/step - loss: 0.0108 - acc: 0.9975\n",
      "Epoch 60/100\n",
      "60000/60000 [==============================] - 3s 44us/step - loss: 0.0076 - acc: 0.9980\n",
      "Epoch 61/100\n",
      "60000/60000 [==============================] - 3s 44us/step - loss: 0.0090 - acc: 0.9978\n",
      "Epoch 62/100\n",
      "60000/60000 [==============================] - 3s 44us/step - loss: 0.0111 - acc: 0.9972\n",
      "Epoch 63/100\n",
      "60000/60000 [==============================] - 3s 43us/step - loss: 0.0104 - acc: 0.9970\n",
      "Epoch 64/100\n",
      "60000/60000 [==============================] - 3s 44us/step - loss: 0.0097 - acc: 0.9977\n",
      "Epoch 65/100\n",
      "60000/60000 [==============================] - 3s 43us/step - loss: 0.0102 - acc: 0.9975\n",
      "Epoch 66/100\n",
      "60000/60000 [==============================] - 3s 43us/step - loss: 0.0082 - acc: 0.9979\n",
      "Epoch 67/100\n",
      "60000/60000 [==============================] - 3s 44us/step - loss: 0.0096 - acc: 0.9975\n",
      "Epoch 68/100\n",
      "60000/60000 [==============================] - 3s 44us/step - loss: 0.0070 - acc: 0.9983\n",
      "Epoch 69/100\n",
      "60000/60000 [==============================] - 3s 44us/step - loss: 0.0093 - acc: 0.9976\n",
      "Epoch 70/100\n",
      "60000/60000 [==============================] - 3s 44us/step - loss: 0.0106 - acc: 0.9975\n",
      "Epoch 71/100\n",
      "60000/60000 [==============================] - 3s 44us/step - loss: 0.0081 - acc: 0.9982\n",
      "Epoch 72/100\n",
      "60000/60000 [==============================] - 3s 44us/step - loss: 0.0079 - acc: 0.9983\n",
      "Epoch 73/100\n",
      "60000/60000 [==============================] - 3s 44us/step - loss: 0.0077 - acc: 0.9983\n",
      "Epoch 74/100\n",
      "60000/60000 [==============================] - 3s 44us/step - loss: 0.0096 - acc: 0.9976\n",
      "Epoch 75/100\n",
      "60000/60000 [==============================] - 3s 47us/step - loss: 0.0074 - acc: 0.9983\n",
      "Epoch 76/100\n",
      "60000/60000 [==============================] - 3s 45us/step - loss: 0.0096 - acc: 0.9978\n",
      "Epoch 77/100\n",
      "60000/60000 [==============================] - 3s 45us/step - loss: 0.0084 - acc: 0.9981\n",
      "Epoch 78/100\n",
      "60000/60000 [==============================] - 3s 44us/step - loss: 0.0097 - acc: 0.9978\n",
      "Epoch 79/100\n",
      "60000/60000 [==============================] - 3s 44us/step - loss: 0.0070 - acc: 0.9986\n",
      "Epoch 80/100\n",
      "60000/60000 [==============================] - 3s 44us/step - loss: 0.0081 - acc: 0.9979\n",
      "Epoch 81/100\n",
      "60000/60000 [==============================] - 2s 42us/step - loss: 0.0076 - acc: 0.9983\n",
      "Epoch 82/100\n",
      "60000/60000 [==============================] - 2s 41us/step - loss: 0.0076 - acc: 0.9983\n",
      "Epoch 83/100\n",
      "60000/60000 [==============================] - 2s 41us/step - loss: 0.0088 - acc: 0.9978\n",
      "Epoch 84/100\n",
      "60000/60000 [==============================] - 2s 42us/step - loss: 0.0076 - acc: 0.9982\n",
      "Epoch 85/100\n",
      "60000/60000 [==============================] - 3s 43us/step - loss: 0.0084 - acc: 0.9980\n",
      "Epoch 86/100\n",
      "60000/60000 [==============================] - 3s 43us/step - loss: 0.0077 - acc: 0.9980\n",
      "Epoch 87/100\n",
      "60000/60000 [==============================] - 3s 44us/step - loss: 0.0063 - acc: 0.9987\n",
      "Epoch 88/100\n",
      "60000/60000 [==============================] - 3s 44us/step - loss: 0.0071 - acc: 0.9984\n",
      "Epoch 89/100\n",
      "60000/60000 [==============================] - 3s 44us/step - loss: 0.0096 - acc: 0.9978\n",
      "Epoch 90/100\n",
      "60000/60000 [==============================] - 3s 44us/step - loss: 0.0068 - acc: 0.9984\n",
      "Epoch 91/100\n",
      "60000/60000 [==============================] - 3s 45us/step - loss: 0.0073 - acc: 0.9983\n",
      "Epoch 92/100\n",
      "60000/60000 [==============================] - 3s 43us/step - loss: 0.0085 - acc: 0.9980\n",
      "Epoch 93/100\n",
      "60000/60000 [==============================] - 3s 45us/step - loss: 0.0064 - acc: 0.9987\n",
      "Epoch 94/100\n",
      "60000/60000 [==============================] - 3s 44us/step - loss: 0.0084 - acc: 0.9980\n",
      "Epoch 95/100\n",
      "60000/60000 [==============================] - 3s 44us/step - loss: 0.0070 - acc: 0.9984\n",
      "Epoch 96/100\n",
      "60000/60000 [==============================] - 3s 44us/step - loss: 0.0075 - acc: 0.9983\n",
      "Epoch 97/100\n",
      "60000/60000 [==============================] - 3s 44us/step - loss: 0.0077 - acc: 0.9984\n",
      "Epoch 98/100\n",
      "60000/60000 [==============================] - 3s 44us/step - loss: 0.0081 - acc: 0.9980\n",
      "Epoch 99/100\n",
      "60000/60000 [==============================] - 3s 43us/step - loss: 0.0071 - acc: 0.9984\n",
      "Epoch 100/100\n",
      "60000/60000 [==============================] - 3s 43us/step - loss: 0.0058 - acc: 0.9988\n"
     ]
    },
    {
     "data": {
      "text/plain": [
       "<keras.callbacks.History at 0xf90bb38>"
      ]
     },
     "execution_count": 40,
     "metadata": {},
     "output_type": "execute_result"
    }
   ],
   "source": [
    "model.fit(x_train,y_train,batch_size=32,epochs=100)"
   ]
  },
  {
   "cell_type": "code",
   "execution_count": 41,
   "metadata": {},
   "outputs": [],
   "source": [
    "y_pred=model.predict(x_test)"
   ]
  },
  {
   "cell_type": "code",
   "execution_count": 42,
   "metadata": {},
   "outputs": [
    {
     "data": {
      "text/plain": [
       "array([[0.0000000e+00, 0.0000000e+00, 6.5304348e-13, ..., 1.0000000e+00,\n",
       "        8.9670973e-29, 9.4907164e-35],\n",
       "       [0.0000000e+00, 8.3365101e-28, 1.0000000e+00, ..., 0.0000000e+00,\n",
       "        3.4035739e-24, 0.0000000e+00],\n",
       "       [5.6211467e-29, 9.9999940e-01, 1.9368596e-14, ..., 6.3935822e-11,\n",
       "        5.1628469e-08, 4.9110764e-11],\n",
       "       ...,\n",
       "       [1.8959357e-24, 1.4884459e-21, 3.5163780e-14, ..., 3.9701414e-18,\n",
       "        4.0154605e-15, 3.6243722e-16],\n",
       "       [0.0000000e+00, 0.0000000e+00, 0.0000000e+00, ..., 0.0000000e+00,\n",
       "        5.1247880e-25, 0.0000000e+00],\n",
       "       [8.4126808e-18, 3.9308733e-31, 5.7676717e-25, ..., 0.0000000e+00,\n",
       "        8.6898522e-21, 0.0000000e+00]], dtype=float32)"
      ]
     },
     "execution_count": 42,
     "metadata": {},
     "output_type": "execute_result"
    }
   ],
   "source": [
    "y_pred"
   ]
  },
  {
   "cell_type": "code",
   "execution_count": 43,
   "metadata": {},
   "outputs": [
    {
     "data": {
      "text/plain": [
       "array([[0., 0., 0., ..., 1., 0., 0.],\n",
       "       [0., 0., 1., ..., 0., 0., 0.],\n",
       "       [0., 1., 0., ..., 0., 0., 0.],\n",
       "       ...,\n",
       "       [0., 0., 0., ..., 0., 0., 0.],\n",
       "       [0., 0., 0., ..., 0., 0., 0.],\n",
       "       [0., 0., 0., ..., 0., 0., 0.]])"
      ]
     },
     "execution_count": 43,
     "metadata": {},
     "output_type": "execute_result"
    }
   ],
   "source": [
    "y_test"
   ]
  },
  {
   "cell_type": "code",
   "execution_count": 44,
   "metadata": {},
   "outputs": [],
   "source": [
    "y_pred_c=model.predict_classes(x_test)#maximum of output"
   ]
  },
  {
   "cell_type": "code",
   "execution_count": 45,
   "metadata": {},
   "outputs": [
    {
     "data": {
      "text/plain": [
       "array([7, 2, 1, ..., 4, 5, 6], dtype=int64)"
      ]
     },
     "execution_count": 45,
     "metadata": {},
     "output_type": "execute_result"
    }
   ],
   "source": [
    "y_pred_c"
   ]
  },
  {
   "cell_type": "code",
   "execution_count": 46,
   "metadata": {},
   "outputs": [
    {
     "data": {
      "text/plain": [
       "7"
      ]
     },
     "execution_count": 46,
     "metadata": {},
     "output_type": "execute_result"
    }
   ],
   "source": [
    "y_pred_c[0]"
   ]
  },
  {
   "cell_type": "code",
   "execution_count": 48,
   "metadata": {},
   "outputs": [
    {
     "data": {
      "text/plain": [
       "array([0., 0., 0., 0., 0., 0., 0., 1., 0., 0.])"
      ]
     },
     "execution_count": 48,
     "metadata": {},
     "output_type": "execute_result"
    }
   ],
   "source": [
    "y_test[0]"
   ]
  },
  {
   "cell_type": "code",
   "execution_count": 49,
   "metadata": {},
   "outputs": [
    {
     "data": {
      "text/plain": [
       "<matplotlib.image.AxesImage at 0x16f86208>"
      ]
     },
     "execution_count": 49,
     "metadata": {},
     "output_type": "execute_result"
    },
    {
     "data": {
      "image/png": "[encoded data removed]",
      "text/plain": [
       "<Figure size 432x288 with 1 Axes>"
      ]
     },
     "metadata": {},
     "output_type": "display_data"
    }
   ],
   "source": [
    "#to plot we need to reshape\n",
    "plt.imshow(x_test[0].reshape(28,28))"
   ]
  },
  {
   "cell_type": "code",
   "execution_count": 50,
   "metadata": {},
   "outputs": [],
   "source": [
    "y_c=one.transform(y_pred_c.reshape(10000,1))"
   ]
  },
  {
   "cell_type": "code",
   "execution_count": 51,
   "metadata": {},
   "outputs": [],
   "source": [
    "from sklearn.metrics import accuracy_score"
   ]
  },
  {
   "cell_type": "code",
   "execution_count": 52,
   "metadata": {},
   "outputs": [
    {
     "data": {
      "text/plain": [
       "0.9662"
      ]
     },
     "execution_count": 52,
     "metadata": {},
     "output_type": "execute_result"
    }
   ],
   "source": [
    "accuracy_score(y_test,y_c)"
   ]
  },
  {
   "cell_type": "code",
   "execution_count": null,
   "metadata": {},
   "outputs": [],
   "source": []
  }
 ],
 "metadata": {
  "kernelspec": {
   "display_name": "Python 3",
   "language": "python",
   "name": "python3"
  },
  "language_info": {
   "codemirror_mode": {
    "name": "ipython",
    "version": 3
   },
   "file_extension": ".py",
   "mimetype": "text/x-python",
   "name": "python",
   "nbconvert_exporter": "python",
   "pygments_lexer": "ipython3",
   "version": "3.7.1"
  }
 },
 "nbformat": 4,
 "nbformat_minor": 2
}
